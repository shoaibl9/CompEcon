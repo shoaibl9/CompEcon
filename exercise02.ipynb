{
 "cells": [
  {
   "cell_type": "markdown",
   "metadata": {},
   "source": [
    "# Weekly exercise 2: Tax function\n",
    "\n",
    "Australia has a progressive income taxes with several brackets.\n",
    "The tax function has the form\n",
    "\n",
    "$$\n",
    "\\begin{cases}\n",
    "0,&\n",
    "\\text{ if income} \\le \\text{th}_1  \\\\\n",
    "(\\text{income} - \\text{th}_1)*\\text{rate}_1,&\n",
    "\\text{ if income} \\in [\\text{th}_1, \\text{th}_2]  \\\\\n",
    "(\\text{th}_2 - \\text{th}_1)*\\text{rate}_1 +\n",
    "(\\text{income} - \\text{th}_2)*\\text{rate}_2,&\n",
    "\\text{ if income} \\in [\\text{th}_2, \\text{th}_3]  \\\\\n",
    "(\\text{th}_2 - \\text{th}_1)*\\text{rate}_1 +\n",
    "(\\text{th}_3-\\text{th}_2)*\\text{rate}_2 +\n",
    "(\\text{income} - \\text{th}_3)*\\text{rate}_3,&\n",
    "\\text{ if income} \\in [\\text{th}_3, \\text{th}_4]  \\\\\n",
    "(\\text{th}_2 - \\text{th}_1)*\\text{rate}_1 +\n",
    "(\\text{th}_3-\\text{th}_2)*\\text{rate}_2 +\n",
    "(\\text{th}_4-\\text{th}_3)*\\text{rate}_3 +\n",
    "(\\text{income} - \\text{th}_4)*\\text{rate}_4,&\n",
    "\\text{ if income} > \\text{th}_4\n",
    "\\end{cases}\n",
    "$$\n",
    "\n",
    "The values for the thresholds and the rates in the 15 year in the period\n",
    "between 2000 and 2015 are given in the table below.\n",
    "\n",
    "|Year|$ th_1 $|$ th_2 $|$ th_3 $|$ th_4 $|$ rate_1 $|$ rate_2 $|$ rate_3 $|$ rate_4 $|\n",
    "|:----:|:------------:|:------------:|:------------:|:------------:|:--------------:|:--------------:|:--------------:|:--------------:|\n",
    "|2000|6,000|20,000|50,000|60,000|0.17|0.30|0.42|0.47|\n",
    "|2001|6,000|20,000|50,000|60,000|0.17|0.30|0.42|0.47|\n",
    "|2002|6,000|20,000|50,000|60,000|0.17|0.30|0.42|0.47|\n",
    "|2003|6,000|21,600|52,000|62,500|0.17|0.30|0.42|0.47|\n",
    "|2004|6,000|21,600|58,000|70,000|0.17|0.30|0.42|0.47|\n",
    "|2005|6,000|21,600|63,000|95,000|0.15|0.30|0.42|0.47|\n",
    "|2006|6,000|25,000|75,000|150,000|0.15|0.30|0.40|0.45|\n",
    "|2007|6,000|30,000|75,000|150,000|0.15|0.30|0.40|0.45|\n",
    "|2008|6,000|34,000|80,000|180,000|0.15|0.30|0.40|0.45|\n",
    "|2009|6,000|35,000|80,000|180,000|0.15|0.30|0.38|0.45|\n",
    "|2010|6,000|37,000|80,000|180,000|0.15|0.30|0.37|0.45|\n",
    "|2011|6,000|37,000|80,000|180,000|0.15|0.30|0.37|0.45|\n",
    "|2012|18,200|37,000|80,000|180,000|0.19|0.325|0.37|0.45|\n",
    "|2013|18,200|37,000|80,000|180,000|0.19|0.325|0.37|0.45|\n",
    "|2014|18,200|37,000|80,000|180,000|0.19|0.325|0.37|0.45|\n",
    "|2015|18,200|37,000|80,000|180,000|0.19|0.325|0.37|0.45|"
   ]
  },
  {
   "cell_type": "markdown",
   "metadata": {},
   "source": [
    "## Task 1:\n",
    "\n",
    "- Write a function to calculate income tax from 2 input arguments: year and amount of income  \n",
    "- Use **if/elif/then** statements for branching of the code  \n",
    "- Run your function on the data provided  "
   ]
  },
  {
   "cell_type": "code",
   "execution_count": 1,
   "metadata": {
    "hide-output": false
   },
   "outputs": [
    {
     "name": "stdout",
     "output_type": "stream",
     "text": [
      "tax(54780.00) = 2007.60 AUD\n"
     ]
    }
   ],
   "source": [
    "# draft implementation for year 2000 to get you started\n",
    "\n",
    "income=54780.0\n",
    "\n",
    "if income <= 6000:\n",
    "    tax = 0.0\n",
    "elif income > 6000 and income <= 20000:\n",
    "    tax = (income-6000)*0.17\n",
    "elif income > 20000 and income <= 50000:\n",
    "    tax = (income-20000)*0.30\n",
    "elif income > 50000 and income <= 60000:\n",
    "    tax = (income-50000)*0.42\n",
    "elif income > 60000:\n",
    "    tax = (income-60000)*0.47\n",
    "\n",
    "print('tax(%1.2f) = %1.2f AUD' % (income,tax))"
   ]
  },
  {
   "cell_type": "code",
   "execution_count": 35,
   "metadata": {},
   "outputs": [],
   "source": [
    "#create dict with key = year, value = list incl th1-4 and rate1-4\n",
    "table = {\n",
    "    2000: [6000, 20000, 50000, 60000, 0.17, 0.30, 0.42, 0.47],\n",
    "    2001: [6000, 20000, 50000, 60000, 0.17, 0.30, 0.42, 0.47],\n",
    "    2002: [6000, 20000, 50000, 60000, 0.17, 0.30, 0.42, 0.47],\n",
    "    2003: [6000, 21600, 52000, 62500, 0.17, 0.30, 0.42, 0.47],\n",
    "    2004: [6000, 21600, 58000, 70000, 0.17, 0.30, 0.42, 0.47],\n",
    "    2005: [6000, 21600, 63000, 95000, 0.15, 0.30, 0.42, 0.47],\n",
    "    2006: [6000, 25000, 75000, 150000, 0.15, 0.30, 0.40, 0.45], \n",
    "    2007: [6000, 25000, 75000, 150000, 0.15, 0.30, 0.40, 0.45], #stopped updating here\n",
    "    2008: [6000, 25000, 75000, 150000, 0.15, 0.30, 0.40, 0.45],\n",
    "    2009: [6000, 25000, 75000, 150000, 0.15, 0.30, 0.40, 0.45],\n",
    "    2010: [6000, 25000, 75000, 150000, 0.15, 0.30, 0.40, 0.45],\n",
    "    2011: [6000, 25000, 75000, 150000, 0.15, 0.30, 0.40, 0.45],\n",
    "    2012: [6000, 25000, 75000, 150000, 0.15, 0.30, 0.40, 0.45],\n",
    "    2013: [6000, 25000, 75000, 150000, 0.15, 0.30, 0.40, 0.45],\n",
    "    2014: [6000, 25000, 75000, 150000, 0.15, 0.30, 0.40, 0.45],\n",
    "    2015: [6000, 25000, 75000, 150000, 0.15, 0.30, 0.40, 0.45],\n",
    "}\n",
    "\n",
    "def tax(year, income):\n",
    "    if (year >= 2000 and year <= 2015):\n",
    "        tax = 0.0\n",
    "        if income > table[year][0]:\n",
    "            if income > table[year][1]:\n",
    "                tax += (table[year][1] - table[year][0]) * table[year][4]\n",
    "            else:\n",
    "                tax += (income - table[year][0]) * table[year][4]\n",
    "        if income > table[year][1]:\n",
    "            if income > table[year][2]:\n",
    "                tax += (table[year][2] - table[year][1]) * table[year][5]\n",
    "            else:\n",
    "                tax += (income - table[year][1]) * table[year][5]\n",
    "        if income > table[year][2]:\n",
    "            if income > table[year][3]:\n",
    "                tax += (table[year][3] - table[year][2]) * table[year][6]\n",
    "            else:\n",
    "                tax += (income - table[year][2]) * table[year][6]\n",
    "        if income > table[year][3]:\n",
    "            tax += (income - table[year][3]) * table[year][7]\n",
    "        \n",
    "        return tax\n",
    "    else:\n",
    "        print(\"input error:\", year, \"not between 2000 and 2015\")\n",
    "        return"
   ]
  },
  {
   "cell_type": "code",
   "execution_count": 36,
   "metadata": {
    "hide-output": false,
    "scrolled": true
   },
   "outputs": [
    {
     "name": "stdout",
     "output_type": "stream",
     "text": [
      "input error: 2090 not between 2000 and 2015\n"
     ]
    }
   ],
   "source": [
    "# run your function on the following data\n",
    "\n",
    "# year = 2000\n",
    "# income = 42400\n",
    "\n",
    "# year = 2010\n",
    "# income = 58300\n",
    "\n",
    "# year = 2015\n",
    "# income = 82710\n",
    "\n",
    "# year = 2012\n",
    "# income = 120340\n",
    "\n",
    "# year = 2001\n",
    "# income = 431400\n",
    "\n",
    "# year = 2003\n",
    "# income = 41870\n",
    "\n",
    "year = 2090 # bro???\n",
    "income = 1407790\n",
    "\n",
    "tax(year, income)"
   ]
  },
  {
   "cell_type": "markdown",
   "metadata": {},
   "source": [
    "## Task 2:\n",
    "\n",
    "- Make the plot of the tax functions using the starter code below  \n",
    "- Replace the @@@ symbols with appropriate code  \n",
    "- The plot should show 15 different lines in the income - tax space  "
   ]
  },
  {
   "cell_type": "code",
   "execution_count": 30,
   "metadata": {
    "hide-output": false
   },
   "outputs": [
    {
     "ename": "SyntaxError",
     "evalue": "invalid syntax (<ipython-input-30-a145cb4ca3e3>, line 7)",
     "output_type": "error",
     "traceback": [
      "\u001b[0;36m  File \u001b[0;32m\"<ipython-input-30-a145cb4ca3e3>\"\u001b[0;36m, line \u001b[0;32m7\u001b[0m\n\u001b[0;31m    inc = [k * @@ / (K-1) for k in range(@@)] # grid over income\u001b[0m\n\u001b[0m               ^\u001b[0m\n\u001b[0;31mSyntaxError\u001b[0m\u001b[0;31m:\u001b[0m invalid syntax\n"
     ]
    }
   ],
   "source": [
    "#let's make a plot as well\n",
    "import matplotlib.pyplot as plt\n",
    "%matplotlib inline\n",
    "plt.rcParams['figure.figsize'] = [12, 8]\n",
    "K = 250 #number of points in the income grid\n",
    "max_inc = 250000 #maximum income\n",
    "inc = [k * @@ / (K-1) for k in range(@@)] # grid over income\n",
    "tax = [0,]*K\n",
    "for year in [@@@ for i in range(@@)]:\n",
    "    for j in range(@@):\n",
    "        income = inc[j]\n",
    "        tax[j] = @@@\n",
    "    plt.plot(inc,tax,label=\"year %d\" % year)\n",
    "plt.xlabel(@@@)\n",
    "plt.ylabel(@@@)\n",
    "plt.show()"
   ]
  },
  {
   "cell_type": "markdown",
   "metadata": {},
   "source": [
    "## Task 3 Alternative implementation [optional]\n",
    "\n",
    "- Write another implementation of the same function based on the **while** loop  \n",
    "- Hint: precompute thresholds and rates based on the year, and run a while loop to compute the amount of tax in stages  \n",
    "- Run the new implementation on the same data as above and verify it returns the same answers  \n",
    "- Discuss the advantages and disadvantages of the two implementations  "
   ]
  },
  {
   "cell_type": "code",
   "execution_count": null,
   "metadata": {
    "hide-output": false
   },
   "outputs": [],
   "source": [
    "#Your code here"
   ]
  }
 ],
 "metadata": {
  "date": 1627475014.4823182,
  "filename": "exercise02.rst",
  "kernelspec": {
   "display_name": "Python 3",
   "language": "python",
   "name": "python3"
  },
  "language_info": {
   "codemirror_mode": {
    "name": "ipython",
    "version": 3
   },
   "file_extension": ".py",
   "mimetype": "text/x-python",
   "name": "python",
   "nbconvert_exporter": "python",
   "pygments_lexer": "ipython3",
   "version": "3.8.8"
  },
  "title": "Weekly exercise 2: Tax function"
 },
 "nbformat": 4,
 "nbformat_minor": 4
}
