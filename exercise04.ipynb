{
 "cells": [
  {
   "cell_type": "markdown",
   "metadata": {},
   "source": [
    "# Weekly exercise 4: Optimal choice in the bungle good market\n",
    "\n",
    "In this exercise I ask you to apply the machinery of bungled goods\n",
    "we have created in video 08 for answering some economic questions.\n",
    "Make sure you use the code written in that video which is stored\n",
    "in the notebook *08_bundles_ex2*."
   ]
  },
  {
   "cell_type": "code",
   "execution_count": 1,
   "metadata": {
    "hide-output": false
   },
   "outputs": [],
   "source": [
    "class bundle_good():\n",
    "    '''Class of bundled goods with well defined arithmetics'''\n",
    "\n",
    "    items = ('Opera A', 'Opera B', \\\n",
    "             'Ballet A', 'Ballet B', \\\n",
    "             'Symphonic orchestra concert', \\\n",
    "             'Rock opera', \\\n",
    "             'Operetta') # 7 different goods\n",
    "\n",
    "    def __init__(self,quantities=[0,],price=0.0):\n",
    "        '''Creates the bundle good object\n",
    "        '''\n",
    "        n = len(bundle_good.items) # number of available items\n",
    "        if len(quantities)<n:\n",
    "            # add zeros for the unspecified items\n",
    "            quantities += [0,]*(n-len(quantities))\n",
    "        elif len(quantities)>n:\n",
    "            # ignore extra numbers\n",
    "            quantities = quantities[0:n]\n",
    "        # create public attributes\n",
    "        # ensure the quantities in the object are integer\n",
    "        self.quantities=[int(x) for x in quantities]\n",
    "        self.price=price\n",
    "\n",
    "    def __repr__(self):\n",
    "        '''String representation of the object\n",
    "        '''\n",
    "        return 'Bundle object %r with price %1.2f' % (self.quantities,self.price)\n",
    "\n",
    "    def __add__(self,other):\n",
    "        '''Addition for bundles: add items and sum prices, or increase price\n",
    "        '''\n",
    "        if type(other) is bundle_good:\n",
    "            # add the quantities using list comprehension with one-to-one matching (zip)\n",
    "            q1 = [x+y for x,y in zip(self.quantities, other.quantities)]\n",
    "            # sum of the prices\n",
    "            p1 = self.price + other.price\n",
    "            # return new bundle\n",
    "            return bundle_good(quantities=q1,price=p1)\n",
    "\n",
    "        elif type(other) in (float,int):\n",
    "            # increase the price\n",
    "            p1 = self.price + other\n",
    "            # return new bundle\n",
    "            return bundle_good(quantities=self.quantities,price=p1)\n",
    "\n",
    "        else:\n",
    "            raise TypeError('Can only add bundle to bundle, or number to bundle price')\n",
    "\n",
    "    def __sub__(self,other):\n",
    "        '''Subtraction for bundles: subtract items and prices, or decrease price\n",
    "        '''\n",
    "        if type(other) is bundle_good:\n",
    "            # subtract the quantities using list comprehension with one-to-one matching (zip)\n",
    "            q1 = [x-y for x,y in zip(self.quantities, other.quantities)]\n",
    "            # sum of the prices\n",
    "            p1 = self.price - other.price\n",
    "            # return new bundle\n",
    "            return bundle_good(quantities=q1,price=p1)\n",
    "        elif type(other) in (float,int):\n",
    "            # decrease the price\n",
    "            p1 = self.price - other\n",
    "            # return new bundle\n",
    "            return bundle_good(quantities=self.quantities,price=p1)\n",
    "        else:\n",
    "            raise TypeError('Can only subtract bundle from bundle, or number from bundle price')\n",
    "\n",
    "    def __mul__(self,num):\n",
    "        '''Multiplication for bundles: repetition of the original bundle\n",
    "        '''\n",
    "        if type(num) is int:\n",
    "            # multiply quantities using list comprehension\n",
    "            q1 = [x * num for x in self.quantities]\n",
    "            # multiply the price\n",
    "            p1 = self.price * num\n",
    "            # return new bundle\n",
    "            return bundle_good(price=p1,quantities=q1)\n",
    "        else:\n",
    "            raise TypeError('Can only multiply bundle by an integer')\n",
    "\n",
    "    def __truediv__(self,num):\n",
    "        '''Division for bundles: fraction of the original bundle, only if quantities are devisable\n",
    "        '''\n",
    "        if type(num) is int:\n",
    "            # divide quantities and check for divisibility\n",
    "            q1 = [q//num for q in self.quantities]\n",
    "            if not all(q%num==0 for q in self.quantities):\n",
    "                # if can not be devided without a remainder, raise ValueError\n",
    "                raise ValueError('Can not divide bundle into fractional parts')\n",
    "            # divide the price\n",
    "            p1=self.price / num\n",
    "            # return new bundle\n",
    "            return bundle_good(price=p1,quantities=q1)\n",
    "        else:\n",
    "            raise TypeError('Can only divide bundle by an integer')\n",
    "            \n",
    "            "
   ]
  },
  {
   "cell_type": "markdown",
   "metadata": {},
   "source": [
    "## Optimal choice of bundle goods\n",
    "\n",
    "Consider a consumer with a utility function over the individual goods\n",
    "given by\n",
    "\n",
    "$$\n",
    "u(x_1,\\dots,x_7)=\\log(x_1+1)+\\big((x_2)^{0.4}+0.5(x_3)^{0.4}\\big)^{2.5}-0.5\\log(x_4+1)-0.2(x_5*x_6)^{0.2}+2\\log(x_7+1).\n",
    "$$\n",
    "\n",
    "Find the optimal set of bundle goods to be consumed by comparing\n",
    "different combinations of the available bundles shown below.\n",
    "\n",
    "There are only three bundle goods on the market, so we\n",
    "can afford a brute force optimization algorithm implemented as a\n",
    "triple nested loop, with each level corresponding to one bundle good\n",
    "and looping from 0 to some reasonable number (think which number\n",
    "would be reasonable).\n",
    "\n",
    "Compute the optimal choice for budgets of 100, 200 and 300 price units.\n",
    "\n",
    "Use the starter code below.  Each occurrence of **@@@** has to be replaced with appropriate code."
   ]
  },
  {
   "cell_type": "code",
   "execution_count": 5,
   "metadata": {
    "hide-output": false
   },
   "outputs": [
    {
     "name": "stdout",
     "output_type": "stream",
     "text": [
      "('for budget', 100, 'in market', [Bundle object [2, 0, 1, 3, 1, 1, 0] with price 10.50, Bundle object [0, 5, 0, 4, 2, 2, 2] with price 15.36, Bundle object [1, 0, 1, 2, 0, 5, 4] with price 12.72], 'the optimal combination is', Bundle object [3, 0, 3, 6, 0, 15, 12] with price 38.16)\n",
      "('for budget', 200, 'in market', [Bundle object [2, 0, 1, 3, 1, 1, 0] with price 10.50, Bundle object [0, 5, 0, 4, 2, 2, 2] with price 15.36, Bundle object [1, 0, 1, 2, 0, 5, 4] with price 12.72], 'the optimal combination is', Bundle object [3, 0, 3, 6, 0, 15, 12] with price 38.16)\n",
      "('for budget', 300, 'in market', [Bundle object [2, 0, 1, 3, 1, 1, 0] with price 10.50, Bundle object [0, 5, 0, 4, 2, 2, 2] with price 15.36, Bundle object [1, 0, 1, 2, 0, 5, 4] with price 12.72], 'the optimal combination is', Bundle object [3, 0, 3, 6, 0, 15, 12] with price 38.16)\n"
     ]
    }
   ],
   "source": [
    "# Available bundle goods\n",
    "a = bundle_good([2,0,1,3,1,1,0],10.50)\n",
    "b = bundle_good([0,5,0,4,2,2,2],15.36)\n",
    "c = bundle_good([1,0,1,2,0,5,4],12.72)\n",
    "market = [a,b,c]\n",
    "\n",
    "import math\n",
    "\n",
    "# utility function\n",
    "def u(x):\n",
    "    '''Returns the utility of a bundle'''\n",
    "    x_1 = x.quantities[0]\n",
    "    x_2 = x.quantities[1]\n",
    "    x_3 = x.quantities[2]\n",
    "    x_4 = x.quantities[3]\n",
    "    x_5 = x.quantities[4]\n",
    "    x_6 = x.quantities[5]\n",
    "    x_7 = x.quantities[6]\n",
    "    return math.log(x_1 + 1) + (((x_2)**0.4) + ((0.5)*(x_3)**0.4)**2.5) - (math.log(x_4 + 1)*0.5) - (0.2*((x_5 * x_6)**0.2)) + 2*math.log(x_7 + 1) # ok this is disgusting\n",
    "\n",
    "# optimization routine\n",
    "def optim(budget,util,market):\n",
    "    '''Returns the optimal combination of goods at the market, given the budget'''\n",
    "    nn = len(market) #heuristic for the maximum quantity to check\n",
    "    # loop over all combination of three bundles to find max utility\n",
    "    m = -float('inf') #initialize with negative infinity\n",
    "    for i in range(nn):\n",
    "        for j in range(nn):\n",
    "            for k in range(nn):\n",
    "                bnd = market[i] + market[j] + market[k]  # combination of so many of each of the three bundled goods\n",
    "                u = util(bnd)\n",
    "                if bnd.price <= budget and m<u:\n",
    "                    # found new maximum which is within the budget\n",
    "                    maxUtil = u  # remember the new max utility\n",
    "                    optimalComb = bnd  # remember the combination of bundle goods where max is attained\n",
    "    return optimalComb #return the optimal combination of goods\n",
    "\n",
    "def report(budget,util,x,market):\n",
    "    '''Makes nice readable output'''\n",
    "    return \"for budget\", budget, \"in market\", market, \"the optimal combination is\", x\n",
    "\n",
    "# main program\n",
    "for budget in [100, 200, 300]:\n",
    "    x=optim(budget,u,market)\n",
    "    ans = report(budget,u,x,market)\n",
    "    print(ans)"
   ]
  },
  {
   "cell_type": "markdown",
   "metadata": {},
   "source": [
    "## Sales tax\n",
    "\n",
    "Imagine the newly introduced sales tax raised all prices by 15%.\n",
    "Recompute the optimal choices in previous question.\n",
    "\n",
    "Do the optimal choices change, and how?"
   ]
  },
  {
   "cell_type": "code",
   "execution_count": null,
   "metadata": {
    "hide-output": false
   },
   "outputs": [],
   "source": [
    "# Write your code here"
   ]
  },
  {
   "cell_type": "markdown",
   "metadata": {},
   "source": [
    "## Sale for one good\n",
    "\n",
    "Imagine the sale for bundle good **c** lowers its price by 20%. Recompute\n",
    "the optimal choices in previous question.\n",
    "\n",
    "Do the optimal choices change, and how?"
   ]
  },
  {
   "cell_type": "code",
   "execution_count": null,
   "metadata": {
    "hide-output": false
   },
   "outputs": [],
   "source": [
    "# Write your code here"
   ]
  }
 ],
 "metadata": {
  "date": 1627475014.492841,
  "filename": "exercise04.rst",
  "kernelspec": {
   "display_name": "Python 3",
   "language": "python",
   "name": "python3"
  },
  "language_info": {
   "codemirror_mode": {
    "name": "ipython",
    "version": 3
   },
   "file_extension": ".py",
   "mimetype": "text/x-python",
   "name": "python",
   "nbconvert_exporter": "python",
   "pygments_lexer": "ipython3",
   "version": "3.8.8"
  },
  "title": "Weekly exercise 4: Optimal choice in the bungle good market"
 },
 "nbformat": 4,
 "nbformat_minor": 4
}
