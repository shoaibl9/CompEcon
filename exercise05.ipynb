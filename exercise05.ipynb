{
 "cells": [
  {
   "cell_type": "markdown",
   "metadata": {},
   "source": [
    "# Weekly exercise 5: Improving Sieves of Eratosthenes algorithm\n",
    "\n",
    "Recall the following classic algorithm for finding all prime numbers\n",
    "up to a given upper boundary.\n",
    "\n",
    "Algorithm:\n",
    "1. initialize the list with all integers (1 to the given upper boundary)\n",
    "2. go through a list of divisors\n",
    "3. cross all numbers on the first list which are divisible by the considered divisor and not equal to it\n",
    "4. stop when all divisors (up to the given boundary) are considered, and so all divisible numbers are crossed out, leaving only primes"
   ]
  },
  {
   "cell_type": "markdown",
   "metadata": {},
   "source": [
    "## Task 1\n",
    "\n",
    "Start by implementing the following version of the algorithm, using the starter code below."
   ]
  },
  {
   "cell_type": "code",
   "execution_count": 1,
   "metadata": {
    "hide-output": false
   },
   "outputs": [],
   "source": [
    "def eratosthenes(upper, verbosity = False):\n",
    "    \"\"\"Return the list of primes up to the given upper bound using the sieve of Eratosthenes algorithm\"\"\"\n",
    "    primes = list(range(2,upper+1)) # all numbers between 1 and upper\n",
    "    divisor = 1 # initial divisor\n",
    "    bool = True\n",
    "    \n",
    "    while bool: # loop until break is invoked\n",
    "        divisor += 1 # next divisor\n",
    "        if divisor > upper: # checked all divisors up to upper\n",
    "            bool = False # stop while loop somehow\n",
    "        i=0 # check for divisibility starting from the first element of remaining list\n",
    "        while i < len(primes): # until the end of the list (which changes length inside the loop)\n",
    "            if primes[i] != divisor and primes[i] % divisor == 0:\n",
    "                # remove divisible, except the divisor itself\n",
    "                primes.remove(primes[i]) # remove, next is with the same index\n",
    "            else:\n",
    "                i += 1 # skip to go to next element\n",
    "        if verbosity: print(\"divisor %d:\"%divisor,primes)\n",
    "            \n",
    "    if verbosity: print(\"Primes up to %d are:\"%upper,primes)\n",
    "    return primes\n"
   ]
  },
  {
   "cell_type": "markdown",
   "metadata": {},
   "source": [
    "To make sure the function is running as it is supposed to, run the\n",
    "tests below and confirm that the output is as expected."
   ]
  },
  {
   "cell_type": "code",
   "execution_count": 3,
   "metadata": {
    "hide-output": false
   },
   "outputs": [
    {
     "name": "stdout",
     "output_type": "stream",
     "text": [
      "divisor 2: [2, 3, 5, 7, 9, 11, 13, 15, 17, 19, 21, 23, 25]\n",
      "divisor 3: [2, 3, 5, 7, 11, 13, 17, 19, 23, 25]\n",
      "divisor 4: [2, 3, 5, 7, 11, 13, 17, 19, 23, 25]\n",
      "divisor 5: [2, 3, 5, 7, 11, 13, 17, 19, 23]\n",
      "divisor 6: [2, 3, 5, 7, 11, 13, 17, 19, 23]\n",
      "divisor 7: [2, 3, 5, 7, 11, 13, 17, 19, 23]\n",
      "divisor 8: [2, 3, 5, 7, 11, 13, 17, 19, 23]\n",
      "divisor 9: [2, 3, 5, 7, 11, 13, 17, 19, 23]\n",
      "divisor 10: [2, 3, 5, 7, 11, 13, 17, 19, 23]\n",
      "divisor 11: [2, 3, 5, 7, 11, 13, 17, 19, 23]\n",
      "divisor 12: [2, 3, 5, 7, 11, 13, 17, 19, 23]\n",
      "divisor 13: [2, 3, 5, 7, 11, 13, 17, 19, 23]\n",
      "divisor 14: [2, 3, 5, 7, 11, 13, 17, 19, 23]\n",
      "divisor 15: [2, 3, 5, 7, 11, 13, 17, 19, 23]\n",
      "divisor 16: [2, 3, 5, 7, 11, 13, 17, 19, 23]\n",
      "divisor 17: [2, 3, 5, 7, 11, 13, 17, 19, 23]\n",
      "divisor 18: [2, 3, 5, 7, 11, 13, 17, 19, 23]\n",
      "divisor 19: [2, 3, 5, 7, 11, 13, 17, 19, 23]\n",
      "divisor 20: [2, 3, 5, 7, 11, 13, 17, 19, 23]\n",
      "divisor 21: [2, 3, 5, 7, 11, 13, 17, 19, 23]\n",
      "divisor 22: [2, 3, 5, 7, 11, 13, 17, 19, 23]\n",
      "divisor 23: [2, 3, 5, 7, 11, 13, 17, 19, 23]\n",
      "divisor 24: [2, 3, 5, 7, 11, 13, 17, 19, 23]\n",
      "divisor 25: [2, 3, 5, 7, 11, 13, 17, 19, 23]\n",
      "divisor 26: [2, 3, 5, 7, 11, 13, 17, 19, 23]\n",
      "Primes up to 25 are: [2, 3, 5, 7, 11, 13, 17, 19, 23]\n"
     ]
    },
    {
     "data": {
      "text/plain": [
       "[2, 3, 5, 7, 11, 13, 17, 19, 23]"
      ]
     },
     "execution_count": 3,
     "metadata": {},
     "output_type": "execute_result"
    }
   ],
   "source": [
    "eratosthenes(25,verbosity=True) #should print the steps of the algorithm"
   ]
  },
  {
   "cell_type": "code",
   "execution_count": 6,
   "metadata": {
    "hide-output": false
   },
   "outputs": [
    {
     "name": "stdout",
     "output_type": "stream",
     "text": [
      "[2, 3, 5]\n"
     ]
    }
   ],
   "source": [
    "x = eratosthenes(5)\n",
    "print(x) #should print [2,3,5]"
   ]
  },
  {
   "cell_type": "code",
   "execution_count": 7,
   "metadata": {
    "hide-output": false
   },
   "outputs": [
    {
     "name": "stdout",
     "output_type": "stream",
     "text": [
      "Number of primes up to 2500 is  367\n"
     ]
    }
   ],
   "source": [
    "x = eratosthenes(2500)\n",
    "print('Number of primes up to 2500 is ',len(x)) #should print \"Number of primes up to 2500 is 368\""
   ]
  },
  {
   "cell_type": "markdown",
   "metadata": {},
   "source": [
    "## Task 2\n",
    "\n",
    "Use the code snippet from lecture video 9 to collect data on the runtime of the *eratosthenes()* as\n",
    "a function of the upper bound.\n",
    "Compute 25 runtime data points using the following sequence for the upper bound: 5, 10, 15, etc,\n",
    "and using 1000 functional calls to compute the average.\n",
    "\n",
    "Make a conjecture on the computational complexity of this algorithm."
   ]
  },
  {
   "cell_type": "code",
   "execution_count": 13,
   "metadata": {
    "hide-output": false
   },
   "outputs": [
    {
     "name": "stdout",
     "output_type": "stream",
     "text": [
      "3.98 µs ± 467 ns per loop (mean ± std. dev. of 7 runs, 1000 loops each)\n",
      "8.87 µs ± 404 ns per loop (mean ± std. dev. of 7 runs, 1000 loops each)\n",
      "17.3 µs ± 253 ns per loop (mean ± std. dev. of 7 runs, 1000 loops each)\n",
      "28.3 µs ± 1.28 µs per loop (mean ± std. dev. of 7 runs, 1000 loops each)\n",
      "41 µs ± 5.46 µs per loop (mean ± std. dev. of 7 runs, 1000 loops each)\n",
      "51.5 µs ± 1.5 µs per loop (mean ± std. dev. of 7 runs, 1000 loops each)\n",
      "66.9 µs ± 3.45 µs per loop (mean ± std. dev. of 7 runs, 1000 loops each)\n",
      "83.6 µs ± 1.85 µs per loop (mean ± std. dev. of 7 runs, 1000 loops each)\n",
      "108 µs ± 1.77 µs per loop (mean ± std. dev. of 7 runs, 1000 loops each)\n",
      "125 µs ± 2.63 µs per loop (mean ± std. dev. of 7 runs, 1000 loops each)\n",
      "149 µs ± 7.27 µs per loop (mean ± std. dev. of 7 runs, 1000 loops each)\n",
      "174 µs ± 3.6 µs per loop (mean ± std. dev. of 7 runs, 1000 loops each)\n",
      "195 µs ± 2.14 µs per loop (mean ± std. dev. of 7 runs, 1000 loops each)\n",
      "225 µs ± 2.14 µs per loop (mean ± std. dev. of 7 runs, 1000 loops each)\n",
      "260 µs ± 3.07 µs per loop (mean ± std. dev. of 7 runs, 1000 loops each)\n",
      "290 µs ± 10.4 µs per loop (mean ± std. dev. of 7 runs, 1000 loops each)\n",
      "308 µs ± 6.61 µs per loop (mean ± std. dev. of 7 runs, 1000 loops each)\n",
      "334 µs ± 7.01 µs per loop (mean ± std. dev. of 7 runs, 1000 loops each)\n",
      "352 µs ± 6.92 µs per loop (mean ± std. dev. of 7 runs, 1000 loops each)\n",
      "399 µs ± 7.69 µs per loop (mean ± std. dev. of 7 runs, 1000 loops each)\n",
      "438 µs ± 10.7 µs per loop (mean ± std. dev. of 7 runs, 1000 loops each)\n",
      "486 µs ± 5.27 µs per loop (mean ± std. dev. of 7 runs, 1000 loops each)\n",
      "523 µs ± 7.06 µs per loop (mean ± std. dev. of 7 runs, 1000 loops each)\n",
      "549 µs ± 6.79 µs per loop (mean ± std. dev. of 7 runs, 1000 loops each)\n",
      "577 µs ± 10.5 µs per loop (mean ± std. dev. of 7 runs, 1000 loops each)\n"
     ]
    },
    {
     "data": {
      "image/png": "[encoded data removed]",
      "text/plain": [
       "<Figure size 864x576 with 1 Axes>"
      ]
     },
     "metadata": {
      "needs_background": "light"
     },
     "output_type": "display_data"
    }
   ],
   "source": [
    "import matplotlib.pyplot as plt\n",
    "%matplotlib inline\n",
    "plt.rcParams['figure.figsize'] = [12, 8]\n",
    "\n",
    "N = 25\n",
    "n,x = [0,] * N, [0,] * N  # lists to accumulate the data\n",
    "for i,k in [(i, 5 + i*5) for i in range(N)]:\n",
    "    n[i] = k\n",
    "    t = %timeit -n1000 -o eratosthenes(k)\n",
    "    x[i] = t.average\n",
    "\n",
    "plt.plot(n,x)\n",
    "plt.xlabel('upper bound')\n",
    "plt.ylabel('average run time, sec')\n",
    "plt.show()"
   ]
  },
  {
   "cell_type": "markdown",
   "metadata": {},
   "source": [
    "## Task 3\n",
    "\n",
    "Copy your code from above and make the following improvements to the algorithm:\n",
    "\n",
    "1. Force divisors only be prime numbers themselves  \n",
    "1. When checking for divisibility, start from the square of the divisor instead of checking each one (why can we do it this way?)  \n",
    "1. Complete the algorithm when the starting point in previous step is above the upper bound  \n",
    "\n",
    "\n",
    "Run the same tests and make sure it the results are identical to the first implementation of the algorithm."
   ]
  },
  {
   "cell_type": "code",
   "execution_count": 9,
   "metadata": {
    "hide-output": false
   },
   "outputs": [],
   "source": [
    "def eratosthenes_better(upper, verbosity = False):\n",
    "    \"\"\"Return the list of primes up to the given upper bound using the sieve of Eratosthenes algorithm\"\"\"\n",
    "    primes = list(range(2,upper+1)) # all numbers between 1 and upper\n",
    "    divisor = 1 # initial divisor\n",
    "    bool = True\n",
    "    \n",
    "    while bool: # loop until break is invoked\n",
    "        divisor += 1 # next divisor\n",
    "        if divisor > upper: # checked all divisors up to upper\n",
    "            bool = False # stop while loop somehow\n",
    "        if divisor in primes:\n",
    "            i=0 # check for divisibility starting from the first element of remaining list\n",
    "            while i < len(primes): # until the end of the list (which changes length inside the loop)\n",
    "                if primes[i] != divisor and primes[i] % divisor == 0:\n",
    "                    # remove divisible, except the divisor itself\n",
    "                    primes.remove(primes[i]) # remove, next is with the same index\n",
    "                else:\n",
    "                    i += 1 # skip to go to next element\n",
    "        if verbosity: print(\"divisor %d:\"%divisor,primes)\n",
    "            \n",
    "    if verbosity: print(\"Primes up to %d are:\"%upper,primes)\n",
    "    return primes\n"
   ]
  },
  {
   "cell_type": "code",
   "execution_count": 10,
   "metadata": {
    "hide-output": false
   },
   "outputs": [
    {
     "name": "stdout",
     "output_type": "stream",
     "text": [
      "divisor 2: [2, 3, 5, 7, 9, 11, 13, 15, 17, 19, 21, 23, 25]\n",
      "divisor 3: [2, 3, 5, 7, 11, 13, 17, 19, 23, 25]\n",
      "divisor 4: [2, 3, 5, 7, 11, 13, 17, 19, 23, 25]\n",
      "divisor 5: [2, 3, 5, 7, 11, 13, 17, 19, 23]\n",
      "divisor 6: [2, 3, 5, 7, 11, 13, 17, 19, 23]\n",
      "divisor 7: [2, 3, 5, 7, 11, 13, 17, 19, 23]\n",
      "divisor 8: [2, 3, 5, 7, 11, 13, 17, 19, 23]\n",
      "divisor 9: [2, 3, 5, 7, 11, 13, 17, 19, 23]\n",
      "divisor 10: [2, 3, 5, 7, 11, 13, 17, 19, 23]\n",
      "divisor 11: [2, 3, 5, 7, 11, 13, 17, 19, 23]\n",
      "divisor 12: [2, 3, 5, 7, 11, 13, 17, 19, 23]\n",
      "divisor 13: [2, 3, 5, 7, 11, 13, 17, 19, 23]\n",
      "divisor 14: [2, 3, 5, 7, 11, 13, 17, 19, 23]\n",
      "divisor 15: [2, 3, 5, 7, 11, 13, 17, 19, 23]\n",
      "divisor 16: [2, 3, 5, 7, 11, 13, 17, 19, 23]\n",
      "divisor 17: [2, 3, 5, 7, 11, 13, 17, 19, 23]\n",
      "divisor 18: [2, 3, 5, 7, 11, 13, 17, 19, 23]\n",
      "divisor 19: [2, 3, 5, 7, 11, 13, 17, 19, 23]\n",
      "divisor 20: [2, 3, 5, 7, 11, 13, 17, 19, 23]\n",
      "divisor 21: [2, 3, 5, 7, 11, 13, 17, 19, 23]\n",
      "divisor 22: [2, 3, 5, 7, 11, 13, 17, 19, 23]\n",
      "divisor 23: [2, 3, 5, 7, 11, 13, 17, 19, 23]\n",
      "divisor 24: [2, 3, 5, 7, 11, 13, 17, 19, 23]\n",
      "divisor 25: [2, 3, 5, 7, 11, 13, 17, 19, 23]\n",
      "divisor 26: [2, 3, 5, 7, 11, 13, 17, 19, 23]\n",
      "Primes up to 25 are: [2, 3, 5, 7, 11, 13, 17, 19, 23]\n",
      "\n",
      "divisor 2: [2, 3, 5, 7, 9, 11, 13, 15, 17, 19, 21, 23, 25]\n",
      "divisor 3: [2, 3, 5, 7, 11, 13, 17, 19, 23, 25]\n",
      "divisor 4: [2, 3, 5, 7, 11, 13, 17, 19, 23, 25]\n",
      "divisor 5: [2, 3, 5, 7, 11, 13, 17, 19, 23]\n",
      "divisor 6: [2, 3, 5, 7, 11, 13, 17, 19, 23]\n",
      "divisor 7: [2, 3, 5, 7, 11, 13, 17, 19, 23]\n",
      "divisor 8: [2, 3, 5, 7, 11, 13, 17, 19, 23]\n",
      "divisor 9: [2, 3, 5, 7, 11, 13, 17, 19, 23]\n",
      "divisor 10: [2, 3, 5, 7, 11, 13, 17, 19, 23]\n",
      "divisor 11: [2, 3, 5, 7, 11, 13, 17, 19, 23]\n",
      "divisor 12: [2, 3, 5, 7, 11, 13, 17, 19, 23]\n",
      "divisor 13: [2, 3, 5, 7, 11, 13, 17, 19, 23]\n",
      "divisor 14: [2, 3, 5, 7, 11, 13, 17, 19, 23]\n",
      "divisor 15: [2, 3, 5, 7, 11, 13, 17, 19, 23]\n",
      "divisor 16: [2, 3, 5, 7, 11, 13, 17, 19, 23]\n",
      "divisor 17: [2, 3, 5, 7, 11, 13, 17, 19, 23]\n",
      "divisor 18: [2, 3, 5, 7, 11, 13, 17, 19, 23]\n",
      "divisor 19: [2, 3, 5, 7, 11, 13, 17, 19, 23]\n",
      "divisor 20: [2, 3, 5, 7, 11, 13, 17, 19, 23]\n",
      "divisor 21: [2, 3, 5, 7, 11, 13, 17, 19, 23]\n",
      "divisor 22: [2, 3, 5, 7, 11, 13, 17, 19, 23]\n",
      "divisor 23: [2, 3, 5, 7, 11, 13, 17, 19, 23]\n",
      "divisor 24: [2, 3, 5, 7, 11, 13, 17, 19, 23]\n",
      "divisor 25: [2, 3, 5, 7, 11, 13, 17, 19, 23]\n",
      "divisor 26: [2, 3, 5, 7, 11, 13, 17, 19, 23]\n",
      "Primes up to 25 are: [2, 3, 5, 7, 11, 13, 17, 19, 23]\n"
     ]
    },
    {
     "data": {
      "text/plain": [
       "[2, 3, 5, 7, 11, 13, 17, 19, 23]"
      ]
     },
     "execution_count": 10,
     "metadata": {},
     "output_type": "execute_result"
    }
   ],
   "source": [
    "eratosthenes(25,verbosity=True) #should print the steps of the algorithm\n",
    "print()\n",
    "eratosthenes_better(25,verbosity=True)"
   ]
  },
  {
   "cell_type": "code",
   "execution_count": 15,
   "metadata": {
    "hide-output": false
   },
   "outputs": [
    {
     "name": "stdout",
     "output_type": "stream",
     "text": [
      "[2, 3, 5]\n",
      "[2, 3, 5]\n"
     ]
    }
   ],
   "source": [
    "x = eratosthenes(5)\n",
    "print(x) #should print [2,3,5]\n",
    "x = eratosthenes_better(5)\n",
    "print(x) #should print [2,3,5]"
   ]
  },
  {
   "cell_type": "code",
   "execution_count": 16,
   "metadata": {
    "hide-output": false
   },
   "outputs": [
    {
     "name": "stdout",
     "output_type": "stream",
     "text": [
      "Number of primes up to 2500 is  367\n",
      "Number of primes up to 2500 is  367\n"
     ]
    }
   ],
   "source": [
    "x = eratosthenes(2500)\n",
    "print('Number of primes up to 2500 is ',len(x)) #should print \"Number of primes up to 2500 is 368\"\n",
    "x = eratosthenes_better(2500)\n",
    "print('Number of primes up to 2500 is ',len(x)) #should print \"Number of primes up to 2500 is 368\""
   ]
  },
  {
   "cell_type": "markdown",
   "metadata": {},
   "source": [
    "## Task 4\n",
    "\n",
    "Repeat the run time analysis for the improved version of the algorithm, and plot the graph for the two implementations side by side."
   ]
  },
  {
   "cell_type": "code",
   "execution_count": 11,
   "metadata": {
    "hide-output": false
   },
   "outputs": [
    {
     "name": "stdout",
     "output_type": "stream",
     "text": [
      "3.92 µs ± 407 ns per loop (mean ± std. dev. of 7 runs, 1000 loops each)\n",
      "2.56 µs ± 164 ns per loop (mean ± std. dev. of 7 runs, 1000 loops each)\n",
      "8.76 µs ± 377 ns per loop (mean ± std. dev. of 7 runs, 1000 loops each)\n",
      "5.24 µs ± 138 ns per loop (mean ± std. dev. of 7 runs, 1000 loops each)\n",
      "16.9 µs ± 568 ns per loop (mean ± std. dev. of 7 runs, 1000 loops each)\n",
      "9.96 µs ± 503 ns per loop (mean ± std. dev. of 7 runs, 1000 loops each)\n",
      "27.4 µs ± 540 ns per loop (mean ± std. dev. of 7 runs, 1000 loops each)\n",
      "15.9 µs ± 1.09 µs per loop (mean ± std. dev. of 7 runs, 1000 loops each)\n",
      "39.1 µs ± 1.34 µs per loop (mean ± std. dev. of 7 runs, 1000 loops each)\n",
      "22.7 µs ± 3.48 µs per loop (mean ± std. dev. of 7 runs, 1000 loops each)\n",
      "51.4 µs ± 1.63 µs per loop (mean ± std. dev. of 7 runs, 1000 loops each)\n",
      "26.7 µs ± 3.18 µs per loop (mean ± std. dev. of 7 runs, 1000 loops each)\n",
      "67.3 µs ± 995 ns per loop (mean ± std. dev. of 7 runs, 1000 loops each)\n",
      "33.1 µs ± 946 ns per loop (mean ± std. dev. of 7 runs, 1000 loops each)\n",
      "82 µs ± 1.95 µs per loop (mean ± std. dev. of 7 runs, 1000 loops each)\n",
      "38 µs ± 2.5 µs per loop (mean ± std. dev. of 7 runs, 1000 loops each)\n",
      "107 µs ± 1.46 µs per loop (mean ± std. dev. of 7 runs, 1000 loops each)\n",
      "50.7 µs ± 740 ns per loop (mean ± std. dev. of 7 runs, 1000 loops each)\n",
      "128 µs ± 1.98 µs per loop (mean ± std. dev. of 7 runs, 1000 loops each)\n",
      "55.8 µs ± 2.5 µs per loop (mean ± std. dev. of 7 runs, 1000 loops each)\n",
      "142 µs ± 5.02 µs per loop (mean ± std. dev. of 7 runs, 1000 loops each)\n",
      "64.7 µs ± 5.25 µs per loop (mean ± std. dev. of 7 runs, 1000 loops each)\n",
      "167 µs ± 4.69 µs per loop (mean ± std. dev. of 7 runs, 1000 loops each)\n",
      "70.3 µs ± 1.48 µs per loop (mean ± std. dev. of 7 runs, 1000 loops each)\n",
      "194 µs ± 6.08 µs per loop (mean ± std. dev. of 7 runs, 1000 loops each)\n",
      "80.1 µs ± 2.29 µs per loop (mean ± std. dev. of 7 runs, 1000 loops each)\n",
      "211 µs ± 3.15 µs per loop (mean ± std. dev. of 7 runs, 1000 loops each)\n",
      "91 µs ± 5.12 µs per loop (mean ± std. dev. of 7 runs, 1000 loops each)\n",
      "246 µs ± 6.18 µs per loop (mean ± std. dev. of 7 runs, 1000 loops each)\n",
      "105 µs ± 5.55 µs per loop (mean ± std. dev. of 7 runs, 1000 loops each)\n",
      "274 µs ± 10.8 µs per loop (mean ± std. dev. of 7 runs, 1000 loops each)\n",
      "114 µs ± 2.12 µs per loop (mean ± std. dev. of 7 runs, 1000 loops each)\n",
      "304 µs ± 10.2 µs per loop (mean ± std. dev. of 7 runs, 1000 loops each)\n",
      "123 µs ± 1.56 µs per loop (mean ± std. dev. of 7 runs, 1000 loops each)\n",
      "355 µs ± 12 µs per loop (mean ± std. dev. of 7 runs, 1000 loops each)\n",
      "143 µs ± 2.47 µs per loop (mean ± std. dev. of 7 runs, 1000 loops each)\n",
      "365 µs ± 9.55 µs per loop (mean ± std. dev. of 7 runs, 1000 loops each)\n",
      "142 µs ± 4.34 µs per loop (mean ± std. dev. of 7 runs, 1000 loops each)\n",
      "384 µs ± 3.42 µs per loop (mean ± std. dev. of 7 runs, 1000 loops each)\n",
      "150 µs ± 2.05 µs per loop (mean ± std. dev. of 7 runs, 1000 loops each)\n",
      "431 µs ± 3.59 µs per loop (mean ± std. dev. of 7 runs, 1000 loops each)\n",
      "176 µs ± 6.22 µs per loop (mean ± std. dev. of 7 runs, 1000 loops each)\n",
      "502 µs ± 14.4 µs per loop (mean ± std. dev. of 7 runs, 1000 loops each)\n",
      "190 µs ± 2.91 µs per loop (mean ± std. dev. of 7 runs, 1000 loops each)\n",
      "522 µs ± 10.8 µs per loop (mean ± std. dev. of 7 runs, 1000 loops each)\n",
      "208 µs ± 7.63 µs per loop (mean ± std. dev. of 7 runs, 1000 loops each)\n",
      "548 µs ± 8.02 µs per loop (mean ± std. dev. of 7 runs, 1000 loops each)\n",
      "210 µs ± 3.82 µs per loop (mean ± std. dev. of 7 runs, 1000 loops each)\n",
      "574 µs ± 6.68 µs per loop (mean ± std. dev. of 7 runs, 1000 loops each)\n",
      "217 µs ± 6.08 µs per loop (mean ± std. dev. of 7 runs, 1000 loops each)\n"
     ]
    },
    {
     "data": {
      "image/png": "[encoded data removed]",
      "text/plain": [
       "<Figure size 864x576 with 1 Axes>"
      ]
     },
     "metadata": {
      "needs_background": "light"
     },
     "output_type": "display_data"
    }
   ],
   "source": [
    "import matplotlib.pyplot as plt\n",
    "%matplotlib inline\n",
    "plt.rcParams['figure.figsize'] = [12, 8]\n",
    "\n",
    "N = 25\n",
    "n,x,y = [0,] * N, [0,] * N, [0,] * N # lists to accumulate the data\n",
    "for i,k in [(i, 5 + 5*i) for i in range(N)]:\n",
    "    n[i] = k\n",
    "    t = %timeit -n1000 -o eratosthenes(k)\n",
    "    x[i] = t.average  # run time of original algorithm\n",
    "    t = %timeit -n1000 -o eratosthenes_better(k)\n",
    "    y[i] = t.average  # run time of improved algorithm\n",
    "\n",
    "plt.plot(n,x,label='Original algorithm')\n",
    "plt.plot(n,y,label='Improved algorithm')\n",
    "plt.xlabel('upper bound')\n",
    "plt.ylabel('average run time, sec')\n",
    "plt.legend()\n",
    "plt.show()"
   ]
  },
  {
   "cell_type": "markdown",
   "metadata": {},
   "source": [
    "Note, however, that 1 is not a prime!\n",
    "[https://www.youtube.com/watch?v=IQofiPqhJ_s](https://www.youtube.com/watch?v=IQofiPqhJ_s)"
   ]
  }
 ],
 "metadata": {
  "date": 1627475014.509599,
  "filename": "exercise05.rst",
  "kernelspec": {
   "display_name": "Python 3",
   "language": "python",
   "name": "python3"
  },
  "language_info": {
   "codemirror_mode": {
    "name": "ipython",
    "version": 3
   },
   "file_extension": ".py",
   "mimetype": "text/x-python",
   "name": "python",
   "nbconvert_exporter": "python",
   "pygments_lexer": "ipython3",
   "version": "3.8.8"
  },
  "title": "Weekly exercise 5: Improving Sieves of Eratosthenes algorithm"
 },
 "nbformat": 4,
 "nbformat_minor": 4
}
